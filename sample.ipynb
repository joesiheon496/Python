{
 "cells": [
  {
   "attachments": {},
   "cell_type": "markdown",
   "metadata": {},
   "source": [
    "URL의 질의 문자열(query string)을 구문 분석(parsing)하고 싶다면 질의 문자열 파라미터는 정수 값을 표현"
   ]
  },
  {
   "cell_type": "code",
   "execution_count": 1,
   "metadata": {},
   "outputs": [
    {
     "name": "stdout",
     "output_type": "stream",
     "text": [
      "{'빨강': ['23'], '파랑': ['245'], '초록': ['']}\n"
     ]
    }
   ],
   "source": [
    "from urllib.parse import parse_qs\n",
    "my_values = parse_qs('빨강=23&파랑=245&초록=',keep_blank_values=True)\n",
    "print(repr(my_values))"
   ]
  },
  {
   "cell_type": "code",
   "execution_count": 2,
   "metadata": {},
   "outputs": [
    {
     "name": "stdout",
     "output_type": "stream",
     "text": [
      "빨강: ['23']\n",
      "파랑: ['245']\n",
      "초록: ['']\n",
      "보라: None\n"
     ]
    }
   ],
   "source": [
    "print(f'빨강: {my_values.get(\"빨강\")}')\n",
    "print(f'파랑: {my_values.get(\"파랑\")}')\n",
    "print(f'초록: {my_values.get(\"초록\")}')\n",
    "print(f'보라: {my_values.get(\"보라\")}')"
   ]
  },
  {
   "cell_type": "code",
   "execution_count": 9,
   "metadata": {},
   "outputs": [
    {
     "name": "stdout",
     "output_type": "stream",
     "text": [
      "빨강: '5'\n",
      "초록: 0\n",
      "투명도: 0\n"
     ]
    }
   ],
   "source": [
    "my_values = parse_qs('빨강=5&파랑=0&초록=',keep_blank_values=True)\n",
    "red = my_values.get('빨강',[''])[0] or 0\n",
    "green = my_values.get('초록',[''])[0] or 0\n",
    "opacity = my_values.get('투명도',[''])[0] or 0\n",
    "\n",
    "print(f'빨강: {red!r}')\n",
    "print(f'초록: {green!r}')\n",
    "print(f'투명도: {opacity!r}')"
   ]
  },
  {
   "cell_type": "code",
   "execution_count": null,
   "metadata": {},
   "outputs": [],
   "source": []
  },
  {
   "attachments": {},
   "cell_type": "markdown",
   "metadata": {},
   "source": [
    "# 언패킹"
   ]
  },
  {
   "cell_type": "code",
   "execution_count": 15,
   "metadata": {},
   "outputs": [
    {
     "name": "stdout",
     "output_type": "stream",
     "text": [
      "호박엿,식혜\n"
     ]
    }
   ],
   "source": [
    "item = ('호박엿','식혜')\n",
    "first, second = item # 언패킹\n",
    "print(f'{first},{second}')"
   ]
  },
  {
   "cell_type": "code",
   "execution_count": 19,
   "metadata": {},
   "outputs": [
    {
     "name": "stdout",
     "output_type": "stream",
     "text": [
      "Cecilia,7\n",
      "남궁민수,4\n",
      "아야러아처,5\n",
      "diidjcivjso,11\n",
      "dsovijsdcvoi9hsdfaoigbhdf,None\n"
     ]
    }
   ],
   "source": [
    "import itertools\n",
    "name = ['Cecilia','남궁민수','아야러아처','diidjcivjso']\n",
    "counts = [len(n)for n in name]\n",
    "name.append('dsovijsdcvoi9hsdfaoigbhdf')\n",
    "for name, count in itertools.zip_longest(name,counts):\n",
    "    print(f\"{name},{count}\")"
   ]
  },
  {
   "cell_type": "code",
   "execution_count": null,
   "metadata": {},
   "outputs": [],
   "source": []
  }
 ],
 "metadata": {
  "kernelspec": {
   "display_name": "Python 3",
   "language": "python",
   "name": "python3"
  },
  "language_info": {
   "codemirror_mode": {
    "name": "ipython",
    "version": 3
   },
   "file_extension": ".py",
   "mimetype": "text/x-python",
   "name": "python",
   "nbconvert_exporter": "python",
   "pygments_lexer": "ipython3",
   "version": "3.11.3"
  },
  "orig_nbformat": 4
 },
 "nbformat": 4,
 "nbformat_minor": 2
}
